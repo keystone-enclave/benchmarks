{
 "cells": [
  {
   "cell_type": "code",
   "execution_count": 4,
   "metadata": {},
   "outputs": [],
   "source": [
    "import pandas as pd\n",
    "import matplotlib.pyplot as plt\n",
    "import numpy as np\n",
    "\n",
    "from IPython.display import display\n",
    "\n",
    "attestation = pd.read_csv(\"data/attestation.csv\")\n",
    "aes = pd.read_csv(\"data/tinyaes.csv\")"
   ]
  },
  {
   "cell_type": "code",
   "execution_count": 5,
   "metadata": {},
   "outputs": [],
   "source": [
    "class Boundary:\n",
    "    \"\"\"A boundary is defined by a start and end symbol along with a name.\"\"\"\n",
    "    def __init__(self, name, start, end):\n",
    "        self.name = name\n",
    "        self.start = start\n",
    "        self.end = end"
   ]
  },
  {
   "cell_type": "code",
   "execution_count": 6,
   "metadata": {},
   "outputs": [],
   "source": [
    "\"\"\"Given a set of boundaries (in no order) gather the number of cycles it took\n",
    "to reach the end of each of the boundaries, by returning a pandas dataframe of\n",
    "the boundaries, their labels, and the cycle cost. This should work in the case\n",
    "of multiple enclaves being started, running a user/runtime, and then destroying.\n",
    "\"\"\"\n",
    "\n",
    "def get_indices(bset, data):\n",
    "    \"\"\"Return the indicies of all the found boundaries.\n",
    "    \"\"\"\n",
    "    start_symbols = [b.start for b in bset]\n",
    "    end_symbols = [b.end for b in bset]\n",
    "    indicies = []\n",
    "    for i, row in data.iterrows():\n",
    "        if row['symbol'] in start_symbols or row['symbol'] in end_symbols:\n",
    "            if i not in indicies:\n",
    "                indicies.append(i)\n",
    "                \n",
    "    return indicies\n",
    "\n",
    "def get_results(indicies, bset, data):\n",
    "    \"\"\"Given indicies of interest and the corresponding data\n",
    "    return the cycle count of each phase.\n",
    "    \"\"\"\n",
    "    start_symbols = [b.start for b in bset]\n",
    "    end_symbols = [b.end for b in bset]\n",
    "    \n",
    "    # focus the data\n",
    "    data = data.iloc[indicies]\n",
    "    # clean up table\n",
    "    data[\"end\"] = data[\"symbol\"].shift(-1)\n",
    "    data[\"cost\"] = -(data['cycle'] - data['cycle'].shift(-1))\n",
    "    data = data.drop(['cycle'], axis=1)[:-1]\n",
    "    # boundary matching\n",
    "    labels = []\n",
    "    for i, row in data.iterrows():\n",
    "        start = row['symbol']\n",
    "        end = row['end']\n",
    "        for b in bset:\n",
    "            if b.start == start and b.end == end:\n",
    "                res = b.name\n",
    "                break\n",
    "\n",
    "        labels.append(res)\n",
    "    \n",
    "    # append labels in new column/series\n",
    "    data[\"phase\"] = pd.Series(labels).values\n",
    "            \n",
    "    return data\n",
    "\n",
    "# Macro boundaries for the enclave\n",
    "# We will also want to have smaller microboundaries for the enclave within these larger bucket.\n",
    "# For these, we will not create separate boundaries.\n",
    "# With the boundaries within boundaries, we can identify what's slowing down the enclave.\n",
    "create_bound = Boundary(\"create_enclave\", \"keystone_create_enclave\", \"keystone_run_enclave\")\n",
    "run_bound = Boundary(\"run_enclave\", \"keystone_run_enclave\", \"rt_base\")\n",
    "runtime_bound = Boundary(\"enclave_runtimeuser1\", \"rt_base\", \"mcall_sm_exit_enclave\")\n",
    "attest_bound = Boundary(\"enclave_attestation\", \"mcall_sm_attest_enclave\", \"return_to_encl\")\n",
    "return_to_runtime_bound = Boundary(\"enclave_runtimeuser2\", \"return_to_encl\", \"mcall_sm_stop_enclave\")\n",
    "attest_edge_call_bound = Boundary(\"enclave_attestation_edge_call\", \"mcall_sm_stop_enclave\", \"return_to_encl\")\n",
    "run_to_exit_bound = Boundary(\"enclave_runtimeuser3\", \"return_to_encl\", \"mcall_sm_exit_enclave\")\n",
    "destroy_bound = Boundary(\"destroy_enclave\", \"destroy_enclave\", \"keystone_destroy_enclave_end\")\n",
    "\n",
    "enclave_bset = [create_bound, run_bound, runtime_bound, attest_bound, return_to_runtime_bound, attest_edge_call_bound,\n",
    "                run_to_exit_bound, destroy_bound]\n",
    "\n",
    "native_bset = [] # we just want user mode?"
   ]
  },
  {
   "cell_type": "code",
   "execution_count": 7,
   "metadata": {},
   "outputs": [],
   "source": [
    "# Run Analysis\n",
    "def data_pipeline(data):\n",
    "    bset = enclave_bset\n",
    "    indicies = get_indices(bset, data)\n",
    "    results = get_results(indicies, bset, data)\n",
    "    return results.groupby(\"phase\").sum()"
   ]
  },
  {
   "cell_type": "code",
   "execution_count": 8,
   "metadata": {},
   "outputs": [
    {
     "name": "stderr",
     "output_type": "stream",
     "text": [
      "/usr/lib/python2.7/site-packages/ipykernel_launcher.py:30: SettingWithCopyWarning:\n",
      "\n",
      "\n",
      "A value is trying to be set on a copy of a slice from a DataFrame.\n",
      "Try using .loc[row_indexer,col_indexer] = value instead\n",
      "\n",
      "See the caveats in the documentation: http://pandas.pydata.org/pandas-docs/stable/indexing.html#indexing-view-versus-copy\n",
      "\n",
      "/usr/lib/python2.7/site-packages/ipykernel_launcher.py:31: SettingWithCopyWarning:\n",
      "\n",
      "\n",
      "A value is trying to be set on a copy of a slice from a DataFrame.\n",
      "Try using .loc[row_indexer,col_indexer] = value instead\n",
      "\n",
      "See the caveats in the documentation: http://pandas.pydata.org/pandas-docs/stable/indexing.html#indexing-view-versus-copy\n",
      "\n"
     ]
    },
    {
     "data": {
      "text/html": [
       "<div>\n",
       "<style scoped>\n",
       "    .dataframe tbody tr th:only-of-type {\n",
       "        vertical-align: middle;\n",
       "    }\n",
       "\n",
       "    .dataframe tbody tr th {\n",
       "        vertical-align: top;\n",
       "    }\n",
       "\n",
       "    .dataframe thead th {\n",
       "        text-align: right;\n",
       "    }\n",
       "</style>\n",
       "<table border=\"1\" class=\"dataframe\">\n",
       "  <thead>\n",
       "    <tr style=\"text-align: right;\">\n",
       "      <th></th>\n",
       "      <th>cost</th>\n",
       "    </tr>\n",
       "    <tr>\n",
       "      <th>phase</th>\n",
       "      <th></th>\n",
       "    </tr>\n",
       "  </thead>\n",
       "  <tbody>\n",
       "    <tr>\n",
       "      <th>create_enclave</th>\n",
       "      <td>49513319.0</td>\n",
       "    </tr>\n",
       "    <tr>\n",
       "      <th>enclave_attestation</th>\n",
       "      <td>1276616.0</td>\n",
       "    </tr>\n",
       "    <tr>\n",
       "      <th>enclave_attestation_edge_call</th>\n",
       "      <td>4908128.0</td>\n",
       "    </tr>\n",
       "    <tr>\n",
       "      <th>enclave_runtimeuser2</th>\n",
       "      <td>6715.0</td>\n",
       "    </tr>\n",
       "    <tr>\n",
       "      <th>enclave_runtimeuser3</th>\n",
       "      <td>2251.0</td>\n",
       "    </tr>\n",
       "    <tr>\n",
       "      <th>run_enclave</th>\n",
       "      <td>8681.0</td>\n",
       "    </tr>\n",
       "  </tbody>\n",
       "</table>\n",
       "</div>"
      ],
      "text/plain": [
       "                                     cost\n",
       "phase                                    \n",
       "create_enclave                 49513319.0\n",
       "enclave_attestation             1276616.0\n",
       "enclave_attestation_edge_call   4908128.0\n",
       "enclave_runtimeuser2               6715.0\n",
       "enclave_runtimeuser3               2251.0\n",
       "run_enclave                        8681.0"
      ]
     },
     "execution_count": 8,
     "metadata": {},
     "output_type": "execute_result"
    }
   ],
   "source": [
    "attres = data_pipeline(attestation)\n",
    "attres"
   ]
  },
  {
   "cell_type": "code",
   "execution_count": 14,
   "metadata": {},
   "outputs": [
    {
     "data": {
      "text/html": [
       "<div>\n",
       "<style scoped>\n",
       "    .dataframe tbody tr th:only-of-type {\n",
       "        vertical-align: middle;\n",
       "    }\n",
       "\n",
       "    .dataframe tbody tr th {\n",
       "        vertical-align: top;\n",
       "    }\n",
       "\n",
       "    .dataframe thead th {\n",
       "        text-align: right;\n",
       "    }\n",
       "</style>\n",
       "<table border=\"1\" class=\"dataframe\">\n",
       "  <thead>\n",
       "    <tr style=\"text-align: right;\">\n",
       "      <th></th>\n",
       "      <th>cost</th>\n",
       "    </tr>\n",
       "    <tr>\n",
       "      <th>phase</th>\n",
       "      <th></th>\n",
       "    </tr>\n",
       "  </thead>\n",
       "  <tbody>\n",
       "    <tr>\n",
       "      <th>create_enclave</th>\n",
       "      <td>45165080.0</td>\n",
       "    </tr>\n",
       "    <tr>\n",
       "      <th>destroy_enclave</th>\n",
       "      <td>15320.0</td>\n",
       "    </tr>\n",
       "    <tr>\n",
       "      <th>run_enclave</th>\n",
       "      <td>540103.0</td>\n",
       "    </tr>\n",
       "  </tbody>\n",
       "</table>\n",
       "</div>"
      ],
      "text/plain": [
       "                       cost\n",
       "phase                      \n",
       "create_enclave   45165080.0\n",
       "destroy_enclave     15320.0\n",
       "run_enclave        540103.0"
      ]
     },
     "execution_count": 14,
     "metadata": {},
     "output_type": "execute_result"
    }
   ],
   "source": [
    "aesres = data_pipeline(aes)\n",
    "aesres"
   ]
  },
  {
   "cell_type": "code",
   "execution_count": 17,
   "metadata": {},
   "outputs": [
    {
     "data": {
      "text/html": [
       "<iframe id=\"igraph\" scrolling=\"no\" style=\"border:none;\" seamless=\"seamless\" src=\"https://plot.ly/~akashk/16.embed\" height=\"525px\" width=\"100%\"></iframe>"
      ],
      "text/plain": [
       "<plotly.tools.PlotlyDisplay object>"
      ]
     },
     "execution_count": 17,
     "metadata": {},
     "output_type": "execute_result"
    }
   ],
   "source": [
    "import plotly.plotly as py\n",
    "import cufflinks as cf\n",
    "\n",
    "# You'll need to set API key using:\n",
    "# plotly.tools.set_credentials_file(username='DemoAccount', api_key='lr1c37zw81')\n",
    "# Find your api_key here: https://plot.ly/settings/api\n",
    "# Cufflinks binds plotly to pandas dataframes in IPython notebook.\n",
    "\n",
    "cf.set_config_file(offline=False, world_readable=True, theme='ggplot')\n",
    "\n",
    "attres.iplot(kind='bar', barmode='stack')"
   ]
  },
  {
   "cell_type": "code",
   "execution_count": 18,
   "metadata": {},
   "outputs": [
    {
     "data": {
      "text/html": [
       "<iframe id=\"igraph\" scrolling=\"no\" style=\"border:none;\" seamless=\"seamless\" src=\"https://plot.ly/~akashk/18.embed\" height=\"525px\" width=\"100%\"></iframe>"
      ],
      "text/plain": [
       "<plotly.tools.PlotlyDisplay object>"
      ]
     },
     "execution_count": 18,
     "metadata": {},
     "output_type": "execute_result"
    }
   ],
   "source": [
    "aesres.iplot(kind='bar', barmode='stack')"
   ]
  },
  {
   "cell_type": "code",
   "execution_count": null,
   "metadata": {},
   "outputs": [],
   "source": []
  }
 ],
 "metadata": {
  "kernelspec": {
   "display_name": "Python 2",
   "language": "python",
   "name": "python2"
  },
  "language_info": {
   "codemirror_mode": {
    "name": "ipython",
    "version": 2
   },
   "file_extension": ".py",
   "mimetype": "text/x-python",
   "name": "python",
   "nbconvert_exporter": "python",
   "pygments_lexer": "ipython2",
   "version": "2.7.5"
  }
 },
 "nbformat": 4,
 "nbformat_minor": 2
}
